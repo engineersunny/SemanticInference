{
 "cells": [
  {
   "cell_type": "code",
   "execution_count": 6,
   "id": "d870b934",
   "metadata": {},
   "outputs": [],
   "source": [
    "# https://dm-haiku.readthedocs.io/en/latest/notebooks/basics.html\n",
    "\n",
    "\n",
    "import haiku as hk\n",
    "import jax\n",
    "import jax.numpy as jnp\n",
    "import numpy as np"
   ]
  },
  {
   "cell_type": "code",
   "execution_count": 4,
   "id": "7763da86",
   "metadata": {},
   "outputs": [],
   "source": [
    "class MyLinear1(hk.Module):\n",
    "\n",
    "  def __init__(self, output_size, name=None):\n",
    "    super().__init__(name=name)\n",
    "    self.output_size = output_size\n",
    "\n",
    "  def __call__(self, x):\n",
    "    j, k = x.shape[-1], self.output_size\n",
    "    w_init = hk.initializers.TruncatedNormal(1. / np.sqrt(j))\n",
    "    w = hk.get_parameter(\"w\", shape=[j, k], dtype=x.dtype, init=w_init)\n",
    "    b = hk.get_parameter(\"b\", shape=[k], dtype=x.dtype, init=jnp.ones)\n",
    "    return jnp.dot(x, w) + b"
   ]
  },
  {
   "cell_type": "code",
   "execution_count": 7,
   "id": "a785b1d1",
   "metadata": {},
   "outputs": [
    {
     "data": {
      "text/plain": [
       "Transformed(init=<function without_state.<locals>.init_fn at 0x7f04ce069b80>, apply=<function without_state.<locals>.apply_fn at 0x7f04ce069c10>)"
      ]
     },
     "execution_count": 7,
     "metadata": {},
     "output_type": "execute_result"
    }
   ],
   "source": [
    "def _forward_fn_linear1(x):\n",
    "  module = MyLinear1(output_size=2)\n",
    "  return module(x)\n",
    "\n",
    "forward_linear1 = hk.transform(_forward_fn_linear1)\n",
    "\n",
    "forward_linear1"
   ]
  },
  {
   "cell_type": "code",
   "execution_count": 8,
   "id": "0f10c563",
   "metadata": {},
   "outputs": [
    {
     "name": "stderr",
     "output_type": "stream",
     "text": [
      "WARNING:absl:No GPU/TPU found, falling back to CPU. (Set TF_CPP_MIN_LOG_LEVEL=0 and rerun for more info.)\n"
     ]
    },
    {
     "name": "stdout",
     "output_type": "stream",
     "text": [
      "{'my_linear1': {'w': DeviceArray([[-0.30350363,  0.5123802 ],\n",
      "             [ 0.08009142, -0.3163005 ],\n",
      "             [ 0.6056666 ,  0.5820702 ]], dtype=float32), 'b': DeviceArray([1., 1.], dtype=float32)}}\n"
     ]
    }
   ],
   "source": [
    "dummy_x = jnp.array([[1., 2., 3.]])\n",
    "rng_key = jax.random.PRNGKey(42)\n",
    "\n",
    "params = forward_linear1.init(rng=rng_key, x=dummy_x)\n",
    "print(params)"
   ]
  },
  {
   "cell_type": "code",
   "execution_count": 9,
   "id": "99690967",
   "metadata": {},
   "outputs": [
    {
     "name": "stdout",
     "output_type": "stream",
     "text": [
      "Output 1 : [[2.6736789 2.6259897]]\n",
      "Output 2 (same as output 1): [[2.6736789 2.6259897]]\n",
      "Output 3 : [[3.820442 4.960439]\n",
      " [4.967205 7.294889]]\n"
     ]
    }
   ],
   "source": [
    "sample_x = jnp.array([[1., 2., 3.]])\n",
    "sample_x_2 = jnp.array([[4., 5., 6.], [7., 8., 9.]])\n",
    "\n",
    "output_1 = forward_linear1.apply(params=params, x=sample_x, rng=rng_key)\n",
    "# Outputs are identical for given inputs since the forward inference is non-stochastic.\n",
    "output_2 = forward_linear1.apply(params=params, x=sample_x, rng=rng_key)\n",
    "\n",
    "output_3 = forward_linear1.apply(params=params, x=sample_x_2, rng=rng_key)\n",
    "\n",
    "print(f'Output 1 : {output_1}')\n",
    "print(f'Output 2 (same as output 1): {output_2}')\n",
    "print(f'Output 3 : {output_3}')"
   ]
  },
  {
   "cell_type": "markdown",
   "id": "7ab9c6a6",
   "metadata": {},
   "source": [
    "Built-in Haiku nets and nested modules"
   ]
  },
  {
   "cell_type": "code",
   "execution_count": 10,
   "id": "01f1b739",
   "metadata": {},
   "outputs": [
    {
     "data": {
      "text/plain": [
       "{'custom_linear/~/hk_internal_linear/~/linear_0': {'w': DeviceArray([[-0.30350363,  0.5123802 ],\n",
       "               [ 0.08009142, -0.3163005 ],\n",
       "               [ 0.6056666 ,  0.5820702 ]], dtype=float32),\n",
       "  'b': DeviceArray([0., 0.], dtype=float32)},\n",
       " 'custom_linear/~/hk_internal_linear/~/linear_1': {'w': DeviceArray([[-0.22075887, -0.27375957,  0.5931483 ],\n",
       "               [ 0.7818068 ,  0.72626334, -0.6860752 ]], dtype=float32),\n",
       "  'b': DeviceArray([0., 0., 0.], dtype=float32)},\n",
       " 'custom_linear/~/old_linear': {'w': DeviceArray([[ 0.28584382,  0.31626168],\n",
       "               [ 0.2335775 , -0.4827032 ],\n",
       "               [-0.14647584, -0.7185701 ]], dtype=float32),\n",
       "  'b': DeviceArray([1., 1.], dtype=float32)}}"
      ]
     },
     "execution_count": 10,
     "metadata": {},
     "output_type": "execute_result"
    }
   ],
   "source": [
    "# See: https://dm-haiku.readthedocs.io/en/latest/api.html#common-modules\n",
    "\n",
    "class MyModuleCustom(hk.Module):\n",
    "  def __init__(self, output_size=2, name='custom_linear'):\n",
    "    super().__init__(name=name)\n",
    "    self._internal_linear_1 = hk.nets.MLP(output_sizes=[2, 3], name='hk_internal_linear')\n",
    "    self._internal_linear_2 = MyLinear1(output_size=output_size, name='old_linear')\n",
    "\n",
    "  def __call__(self, x):\n",
    "    return self._internal_linear_2(self._internal_linear_1(x))\n",
    "\n",
    "def _custom_forward_fn(x):\n",
    "  module = MyModuleCustom()\n",
    "  return module(x)\n",
    "\n",
    "custom_forward_without_rng = hk.without_apply_rng(hk.transform(_custom_forward_fn))\n",
    "params = custom_forward_without_rng.init(rng=rng_key, x=sample_x)\n",
    "params"
   ]
  }
 ],
 "metadata": {
  "kernelspec": {
   "display_name": "Python(env_jax_3)",
   "language": "python",
   "name": "env_jax_3"
  },
  "language_info": {
   "codemirror_mode": {
    "name": "ipython",
    "version": 3
   },
   "file_extension": ".py",
   "mimetype": "text/x-python",
   "name": "python",
   "nbconvert_exporter": "python",
   "pygments_lexer": "ipython3",
   "version": "3.9.12"
  }
 },
 "nbformat": 4,
 "nbformat_minor": 5
}
